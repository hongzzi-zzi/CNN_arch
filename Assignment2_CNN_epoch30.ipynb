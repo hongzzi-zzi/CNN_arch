{
  "nbformat": 4,
  "nbformat_minor": 0,
  "metadata": {
    "kernelspec": {
      "display_name": "Python 3",
      "language": "python",
      "name": "python3"
    },
    "language_info": {
      "codemirror_mode": {
        "name": "ipython",
        "version": 3
      },
      "file_extension": ".py",
      "mimetype": "text/x-python",
      "name": "python",
      "nbconvert_exporter": "python",
      "pygments_lexer": "ipython3",
      "version": "3.6.10"
    },
    "colab": {
      "name": "Assignment2_CNN_epoch30.ipynb",
      "provenance": [],
      "collapsed_sections": []
    },
    "accelerator": "GPU"
  },
  "cells": [
    {
      "cell_type": "markdown",
      "metadata": {
        "id": "SQ85oqmbI5si"
      },
      "source": [
        "# Machine Learning<br> Assignment #2 Training Convolutional Neural Networks (Pytorch)"
      ]
    },
    {
      "cell_type": "markdown",
      "metadata": {
        "id": "-6KUL0guI5sl"
      },
      "source": [
        "Copyright (C) This material is for educational uses only. Some contents are based on the material provided by other paper/book authors and may be copyrighted by them. "
      ]
    },
    {
      "cell_type": "markdown",
      "metadata": {
        "id": "STeBYfjcI5sm"
      },
      "source": [
        "**For understanding of this work, please carefully look at given PPT file.**\n",
        "\n",
        "Now, you're going to leave behind your implementations and instead migrate to one of popular deep learning frameworks, **PyTorch**. <br>\n",
        "In this notebook, you will learn how to train convolutional neural networks (CNNs) for classifying images in the CIFAR-10 dataset. <br>\n",
        "you need to follow the instructions to complete the skeleton codes and explain them.\n",
        "\n",
        "**Note**: certain details are missing or ambiguous on purpose, in order to test your knowledge on the related materials. However, if you really feel that something essential is missing and cannot proceed to the next step, then contact the teaching staff with clear description of your problem.\n",
        "\n",
        "\n",
        "### Some helpful tutorials and references for assignment #2:\n",
        "- [1] Pytorch official documentation. [[link]](https://pytorch.org/docs/stable/index.html)\n",
        "- [2] Stanford CS231n lectures. [[link]](http://cs231n.stanford.edu/)\n",
        "- [3] Szegedy et al., \"Going deeper with convolutions\", CVPR 2015. [[pdf]](http://www.cv-foundation.org/openaccess/content_cvpr_2015/papers/Szegedy_Going_Deeper_With_2015_CVPR_paper.pdf)"
      ]
    },
    {
      "cell_type": "markdown",
      "metadata": {
        "id": "VU2Dql1UI5sn"
      },
      "source": [
        "## 0. Load datasets\n",
        "The CIFAR-10 dataset will be downloaded automatically if it is not located in the *data* directory. <br>"
      ]
    },
    {
      "cell_type": "code",
      "metadata": {
        "id": "CeLry21NI5so"
      },
      "source": [
        "import torch\n",
        "import torchvision\n",
        "import torchvision.transforms as transforms\n",
        "import matplotlib.pyplot as plt\n",
        "import numpy as np\n",
        "import torch.nn as nn\n",
        "import torch.nn.functional as F\n",
        "import torch.optim as optim"
      ],
      "execution_count": 37,
      "outputs": []
    },
    {
      "cell_type": "markdown",
      "metadata": {
        "id": "QHijXt85-o29"
      },
      "source": [
        ""
      ]
    },
    {
      "cell_type": "code",
      "metadata": {
        "id": "F1ZAvf3wI5sr",
        "colab": {
          "base_uri": "https://localhost:8080/"
        },
        "outputId": "fb85f151-b3ce-4e37-8581-e45166ff972c"
      },
      "source": [
        "transform = transforms.Compose(\n",
        "    [transforms.ToTensor(),\n",
        "     transforms.Normalize((0.5, 0.5, 0.5), (0.5, 0.5, 0.5))])\n",
        "\n",
        "batch_size=4\n",
        "trainset = torchvision.datasets.CIFAR10(root='./data', train=True,\n",
        "                                        download=True, transform=transform)\n",
        "trainloader = torch.utils.data.DataLoader(trainset, batch_size=batch_size,#DEFINE your batch size,\n",
        "                                          shuffle=True, num_workers=2)\n",
        "\n",
        "testset = torchvision.datasets.CIFAR10(root='./data', train=False,\n",
        "                                       download=True, transform=transform)\n",
        "testloader = torch.utils.data.DataLoader(testset, batch_size=batch_size,#DEFINE your batch size,\n",
        "                                         shuffle=False, num_workers=2)\n",
        "\n",
        "classes = ('plane', 'car', 'bird', 'cat',\n",
        "           'deer', 'dog', 'frog', 'horse', 'ship', 'truck')"
      ],
      "execution_count": 38,
      "outputs": [
        {
          "output_type": "stream",
          "name": "stdout",
          "text": [
            "Files already downloaded and verified\n",
            "Files already downloaded and verified\n"
          ]
        }
      ]
    },
    {
      "cell_type": "code",
      "metadata": {
        "scrolled": true,
        "id": "X0wkA3Q_I5su"
      },
      "source": [
        "# function to show an image\n",
        "def imshow(img):\n",
        "    img = img / 2 + 0.5     # unnormalize\n",
        "    npimg = img.numpy()\n",
        "    print(np.transpose(npimg, (1, 2, 0)).shape)\n",
        "    plt.imshow(np.transpose(npimg, (1, 2, 0)))\n",
        "    plt.show()"
      ],
      "execution_count": 39,
      "outputs": []
    },
    {
      "cell_type": "code",
      "metadata": {
        "id": "57_tR3K6I5sx",
        "colab": {
          "base_uri": "https://localhost:8080/",
          "height": 191
        },
        "outputId": "2dd67e43-bc7e-4104-ed83-33169babd21b"
      },
      "source": [
        "# get some random training images\n",
        "dataiter = iter(trainloader)\n",
        "images, labels = dataiter.next()\n",
        "\n",
        "# show images\n",
        "imshow(torchvision.utils.make_grid(images))\n",
        "# print labels\n",
        "print(' '.join('%5s' % classes[labels[j]] for j in range(4)))\n",
        "# print size of single image\n",
        "print(images[1].shape)"
      ],
      "execution_count": 40,
      "outputs": [
        {
          "output_type": "stream",
          "name": "stdout",
          "text": [
            "(36, 138, 3)\n"
          ]
        },
        {
          "output_type": "display_data",
          "data": {
            "text/plain": [
              "<Figure size 432x288 with 1 Axes>"
            ],
            "image/png": "[encoded data removed]"
          },
          "metadata": {
            "needs_background": "light"
          }
        },
        {
          "output_type": "stream",
          "name": "stdout",
          "text": [
            "plane  bird truck  bird\n",
            "torch.Size([3, 32, 32])\n"
          ]
        }
      ]
    },
    {
      "cell_type": "markdown",
      "metadata": {
        "id": "yfZ0paa1I5s0"
      },
      "source": [
        "## 1. Training a small CNN model\n",
        "\n",
        "#### CNN architecture in order:\n",
        "* 5x5 Convolutional layer with 6 filters, strides of 1, and ReLU activation\n",
        "* 2x2 Max pooling layer with strides of 2\n",
        "* 5x5 Convolutional layer with 16 filters, strides of 1, and ReLU activation\n",
        "* 2x2 Max pooling layer with strides of 2\n",
        "* Fully connected layer with 120 output units and ReLU activation\n",
        "* Fully connected layer with 84 output units and ReLU activation\n",
        "* Fully connected layer with 10 output units and linear activation\n",
        "* You can use any padding option.\n",
        "\n",
        "#### Training setup:\n",
        "* Loss function: Sotfmax cross entropy\n",
        "* Optimizer: Gradient descent with 0.001 learning rate\n",
        "* Batch size: 4\n",
        "* Training epoch: 2"
      ]
    },
    {
      "cell_type": "code",
      "metadata": {
        "id": "avbMOsRGI5s0"
      },
      "source": [
        "# Define a CNN model\n",
        "class Net(nn.Module):\n",
        "    def __init__(self):\n",
        "        super(Net, self).__init__()\n",
        "        ##############################################################################\n",
        "        #                          IMPLEMENT YOUR CODE                               #\n",
        "        ##############################################################################\n",
        "        self.conv1 = nn.Conv2d(3, 6, 5)\n",
        "        # 1st parameter: input_channel_size는 Input Image의 RGB depth 인 3\n",
        "        # 2nd parameter: output_volume_size(몇 장의 필터를 만들어내고 싶은지)\n",
        "        # 3rd parameter: kernel_size(filter_size)\n",
        "        self.pool1 = nn.MaxPool2d(2, 2)\n",
        "        self.conv2 = nn.Conv2d(6, 16, 5)\n",
        "        self.pool2 = nn.MaxPool2d(2, 2)\n",
        "\n",
        "        self.fc1=nn.Linear(16*5*5, 120)\n",
        "        self.fc2=nn.Linear(120, 84)\n",
        "        self.fc3 = nn.Linear(84, 10)\n",
        "        ##############################################################################\n",
        "        #                          END OF YOUR CODE                                  #\n",
        "        ##############################################################################\n",
        "\n",
        "    def forward(self, x):\n",
        "        ##############################################################################\n",
        "        #                          IMPLEMENT YOUR CODE                               #\n",
        "        ##############################################################################\n",
        "\n",
        "        x = self.pool1(F.relu(self.conv1(x))) # conv1 -> ReLU -> pool1\n",
        "        x = self.pool2(F.relu(self.conv2(x))) # conv2 -> ReLU -> pool2\n",
        "\n",
        "        x = x.view(-1, 16 * 5 * 5) # 5x5 피쳐맵 16개를 일렬로 만든다.\n",
        "        x = F.relu(self.fc1(x))\n",
        "        x = F.relu(self.fc2(x))\n",
        "        x = self.fc3(x)\n",
        "\n",
        "        ##############################################################################\n",
        "        #                          END OF YOUR CODE                                  #\n",
        "        ##############################################################################\n",
        "        return x\n",
        "\n",
        "net = Net()"
      ],
      "execution_count": 41,
      "outputs": []
    },
    {
      "cell_type": "code",
      "metadata": {
        "id": "li49vft2I5s3"
      },
      "source": [
        "# Training on GPU\n",
        "device = torch.device(\"cuda:0\" if torch.cuda.is_available() else \"cpu\")\n",
        "net = net.to(device)"
      ],
      "execution_count": 42,
      "outputs": []
    },
    {
      "cell_type": "code",
      "metadata": {
        "id": "ByLTEPh-I5s5"
      },
      "source": [
        "# Define a Loss function and optimizer\n",
        "criterion = nn.CrossEntropyLoss()\n",
        "optimizer =optim.SGD(net.parameters(), lr=0.001, momentum=0.9) #Define optimizer and learning rate"
      ],
      "execution_count": 43,
      "outputs": []
    },
    {
      "cell_type": "code",
      "metadata": {
        "id": "baMkON-wI5s8"
      },
      "source": [
        "# Function to train the network\n",
        "\n",
        "def train(net, trainloader, max_epoch, crit, opt, model_path='./cifar_net.pth'):\n",
        "\n",
        "    for epoch in range(max_epoch):  # loop over the dataset multiple times\n",
        "\n",
        "        running_loss = 0.0\n",
        "        for i, data in enumerate(trainloader, 0):\n",
        "            # get the inputs; data is a list of [inputs, labels]\n",
        "            inputs, labels = data\n",
        "        \n",
        "            # Training on GPU\n",
        "            inputs = inputs.to(device)\n",
        "            labels = labels.to(device)\n",
        "\n",
        "            # zero the parameter gradients\n",
        "            optimizer.zero_grad()\n",
        "\n",
        "            # forward + backward + optimize\n",
        "            outputs = net(inputs)\n",
        "            loss = crit(outputs, labels)\n",
        "            loss.backward()\n",
        "            opt.step()\n",
        "\n",
        "            # print statistics\n",
        "            running_loss += loss.item()\n",
        "            if i % 2000 == 1999:    # print every 2000 mini-batches\n",
        "                print('[%d, %5d] loss: %.3f' %\n",
        "                      (epoch + 1, i + 1, running_loss / 2000))\n",
        "                running_loss = 0.0\n",
        "\n",
        "    print('Finished Training')\n",
        "    torch.save(net.state_dict(), model_path)\n",
        "    print('Saved Trained Model')"
      ],
      "execution_count": 44,
      "outputs": []
    },
    {
      "cell_type": "code",
      "metadata": {
        "id": "Yg2k5oxwI5s-",
        "outputId": "6d1cc746-9349-4747-9cc9-70eeea5272ce",
        "colab": {
          "base_uri": "https://localhost:8080/"
        }
      },
      "source": [
        "PATH = './cifar_net.pth'\n",
        "train(net, trainloader, 30, criterion, optimizer, PATH)\n",
        "#DEFINE your epoch, criterion, optimizer, PATH)"
      ],
      "execution_count": 45,
      "outputs": [
        {
          "output_type": "stream",
          "name": "stdout",
          "text": [
            "[1,  2000] loss: 2.285\n",
            "[1,  4000] loss: 1.916\n",
            "[1,  6000] loss: 1.719\n",
            "[1,  8000] loss: 1.602\n",
            "[1, 10000] loss: 1.556\n",
            "[1, 12000] loss: 1.504\n",
            "[2,  2000] loss: 1.451\n",
            "[2,  4000] loss: 1.424\n",
            "[2,  6000] loss: 1.368\n",
            "[2,  8000] loss: 1.340\n",
            "[2, 10000] loss: 1.337\n",
            "[2, 12000] loss: 1.306\n",
            "[3,  2000] loss: 1.236\n",
            "[3,  4000] loss: 1.218\n",
            "[3,  6000] loss: 1.199\n",
            "[3,  8000] loss: 1.221\n",
            "[3, 10000] loss: 1.208\n",
            "[3, 12000] loss: 1.213\n",
            "[4,  2000] loss: 1.111\n",
            "[4,  4000] loss: 1.125\n",
            "[4,  6000] loss: 1.114\n",
            "[4,  8000] loss: 1.139\n",
            "[4, 10000] loss: 1.086\n",
            "[4, 12000] loss: 1.122\n",
            "[5,  2000] loss: 1.029\n",
            "[5,  4000] loss: 1.056\n",
            "[5,  6000] loss: 1.043\n",
            "[5,  8000] loss: 1.042\n",
            "[5, 10000] loss: 1.038\n",
            "[5, 12000] loss: 1.041\n",
            "[6,  2000] loss: 0.964\n",
            "[6,  4000] loss: 0.996\n",
            "[6,  6000] loss: 0.993\n",
            "[6,  8000] loss: 0.973\n",
            "[6, 10000] loss: 0.994\n",
            "[6, 12000] loss: 0.999\n",
            "[7,  2000] loss: 0.891\n",
            "[7,  4000] loss: 0.927\n",
            "[7,  6000] loss: 0.950\n",
            "[7,  8000] loss: 0.952\n",
            "[7, 10000] loss: 0.952\n",
            "[7, 12000] loss: 0.965\n",
            "[8,  2000] loss: 0.857\n",
            "[8,  4000] loss: 0.892\n",
            "[8,  6000] loss: 0.904\n",
            "[8,  8000] loss: 0.908\n",
            "[8, 10000] loss: 0.910\n",
            "[8, 12000] loss: 0.912\n",
            "[9,  2000] loss: 0.829\n",
            "[9,  4000] loss: 0.849\n",
            "[9,  6000] loss: 0.868\n",
            "[9,  8000] loss: 0.873\n",
            "[9, 10000] loss: 0.870\n",
            "[9, 12000] loss: 0.891\n",
            "[10,  2000] loss: 0.773\n",
            "[10,  4000] loss: 0.814\n",
            "[10,  6000] loss: 0.831\n",
            "[10,  8000] loss: 0.831\n",
            "[10, 10000] loss: 0.850\n",
            "[10, 12000] loss: 0.864\n",
            "[11,  2000] loss: 0.745\n",
            "[11,  4000] loss: 0.776\n",
            "[11,  6000] loss: 0.813\n",
            "[11,  8000] loss: 0.821\n",
            "[11, 10000] loss: 0.828\n",
            "[11, 12000] loss: 0.841\n",
            "[12,  2000] loss: 0.718\n",
            "[12,  4000] loss: 0.763\n",
            "[12,  6000] loss: 0.766\n",
            "[12,  8000] loss: 0.790\n",
            "[12, 10000] loss: 0.822\n",
            "[12, 12000] loss: 0.832\n",
            "[13,  2000] loss: 0.710\n",
            "[13,  4000] loss: 0.745\n",
            "[13,  6000] loss: 0.771\n",
            "[13,  8000] loss: 0.763\n",
            "[13, 10000] loss: 0.792\n",
            "[13, 12000] loss: 0.779\n",
            "[14,  2000] loss: 0.679\n",
            "[14,  4000] loss: 0.732\n",
            "[14,  6000] loss: 0.736\n",
            "[14,  8000] loss: 0.746\n",
            "[14, 10000] loss: 0.764\n",
            "[14, 12000] loss: 0.787\n",
            "[15,  2000] loss: 0.647\n",
            "[15,  4000] loss: 0.710\n",
            "[15,  6000] loss: 0.744\n",
            "[15,  8000] loss: 0.733\n",
            "[15, 10000] loss: 0.754\n",
            "[15, 12000] loss: 0.774\n",
            "[16,  2000] loss: 0.684\n",
            "[16,  4000] loss: 0.681\n",
            "[16,  6000] loss: 0.701\n",
            "[16,  8000] loss: 0.708\n",
            "[16, 10000] loss: 0.747\n",
            "[16, 12000] loss: 0.781\n",
            "[17,  2000] loss: 0.629\n",
            "[17,  4000] loss: 0.682\n",
            "[17,  6000] loss: 0.672\n",
            "[17, 10000] loss: 0.733\n",
            "[17, 12000] loss: 0.741\n",
            "[18,  2000] loss: 0.613\n",
            "[18,  4000] loss: 0.688\n",
            "[18,  6000] loss: 0.693\n",
            "[18,  8000] loss: 0.701\n",
            "[18, 10000] loss: 0.710\n",
            "[18, 12000] loss: 0.725\n",
            "[19,  2000] loss: 0.593\n",
            "[19,  4000] loss: 0.679\n",
            "[19,  6000] loss: 0.671\n",
            "[19,  8000] loss: 0.702\n",
            "[19, 10000] loss: 0.708\n",
            "[19, 12000] loss: 0.713\n",
            "[20,  2000] loss: 0.609\n",
            "[20,  4000] loss: 0.648\n",
            "[20,  6000] loss: 0.693\n",
            "[20,  8000] loss: 0.673\n",
            "[20, 10000] loss: 0.700\n",
            "[20, 12000] loss: 0.721\n",
            "[21,  2000] loss: 0.566\n",
            "[21,  4000] loss: 0.621\n",
            "[21,  6000] loss: 0.686\n",
            "[21,  8000] loss: 0.693\n",
            "[21, 10000] loss: 0.682\n",
            "[21, 12000] loss: 0.726\n",
            "[22,  2000] loss: 0.589\n",
            "[22,  4000] loss: 0.623\n",
            "[22,  6000] loss: 0.644\n",
            "[22,  8000] loss: 0.690\n",
            "[22, 10000] loss: 0.657\n",
            "[22, 12000] loss: 0.716\n",
            "[23,  2000] loss: 0.575\n",
            "[23,  4000] loss: 0.625\n",
            "[23,  6000] loss: 0.647\n",
            "[23,  8000] loss: 0.682\n",
            "[23, 10000] loss: 0.692\n",
            "[23, 12000] loss: 0.682\n",
            "[24,  2000] loss: 0.576\n",
            "[24,  4000] loss: 0.611\n",
            "[24,  6000] loss: 0.649\n",
            "[24,  8000] loss: 0.644\n",
            "[24, 10000] loss: 0.661\n",
            "[24, 12000] loss: 0.702\n",
            "[25,  2000] loss: 0.575\n",
            "[25,  4000] loss: 0.613\n",
            "[25,  6000] loss: 0.625\n",
            "[25,  8000] loss: 0.631\n",
            "[25, 10000] loss: 0.667\n",
            "[25, 12000] loss: 0.677\n",
            "[26,  2000] loss: 0.562\n",
            "[26,  4000] loss: 0.596\n",
            "[26,  6000] loss: 0.649\n",
            "[26,  8000] loss: 0.637\n",
            "[26, 10000] loss: 0.646\n",
            "[26, 12000] loss: 0.670\n",
            "[27,  2000] loss: 0.538\n",
            "[27,  4000] loss: 0.601\n",
            "[27,  6000] loss: 0.616\n",
            "[27,  8000] loss: 0.623\n",
            "[27, 10000] loss: 0.655\n",
            "[27, 12000] loss: 0.685\n",
            "[28,  2000] loss: 0.530\n",
            "[28,  4000] loss: 0.588\n",
            "[28,  6000] loss: 0.621\n",
            "[28,  8000] loss: 0.651\n",
            "[28, 10000] loss: 0.669\n",
            "[28, 12000] loss: 0.675\n",
            "[29,  2000] loss: 0.548\n",
            "[29,  4000] loss: 0.580\n",
            "[29,  6000] loss: 0.615\n",
            "[29,  8000] loss: 0.626\n",
            "[29, 10000] loss: 0.663\n",
            "[29, 12000] loss: 0.676\n",
            "[30,  2000] loss: 0.545\n",
            "[30,  4000] loss: 0.580\n",
            "[30,  6000] loss: 0.600\n",
            "[30,  8000] loss: 0.625\n",
            "[30, 10000] loss: 0.641\n",
            "[30, 12000] loss: 0.657\n",
            "Finished Training\n",
            "Saved Trained Model\n"
          ]
        }
      ]
    },
    {
      "cell_type": "code",
      "metadata": {
        "id": "RmuM3WnhI5tB"
      },
      "source": [
        "# function to calculate accuracy\n",
        "def print_accuracy(net, dataloader):\n",
        "    correct = 0\n",
        "    total = 0\n",
        "\n",
        "    with torch.no_grad():\n",
        "        for data in dataloader:\n",
        "            images, labels = data\n",
        "            # Inference on GPU\n",
        "            images = images.to(device)\n",
        "            labels = labels.to(device)\n",
        "        \n",
        "            outputs = net(images)\n",
        "            _, predicted = torch.max(outputs.data, 1)\n",
        "            total += labels.size(0)\n",
        "            correct += (predicted == labels).sum().item()\n",
        "        \n",
        "    print('Accuracy of the network on the %d test images: %d %%' % (total,\n",
        "        100 * correct / total))"
      ],
      "execution_count": 46,
      "outputs": []
    },
    {
      "cell_type": "code",
      "metadata": {
        "id": "Robf5GNTI5tD",
        "colab": {
          "base_uri": "https://localhost:8080/"
        },
        "outputId": "88c1590d-3a7c-45c4-deb8-f755063dd0f1"
      },
      "source": [
        "print_accuracy(net, testloader)"
      ],
      "execution_count": 47,
      "outputs": [
        {
          "output_type": "stream",
          "name": "stdout",
          "text": [
            "Accuracy of the network on the 10000 test images: 60 %\n"
          ]
        }
      ]
    }
  ]
}